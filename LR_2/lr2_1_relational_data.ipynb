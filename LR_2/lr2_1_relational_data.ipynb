{
  "cells": [
    {
      "cell_type": "code",
      "execution_count": null,
      "metadata": {
        "id": "ju_iBe2hS5UC"
      },
      "outputs": [],
      "source": [
        "# Colab only: Run this cell to download/install packages\n",
        "import sys"
      ]
    },
    {
      "cell_type": "markdown",
      "metadata": {
        "id": "1fLqy4p1S3Xp"
      },
      "source": [
        "# Relational Data and Visualization\n",
        "In this problem, you will be analyzing the Twitter data we extracted using [this](https://developer.twitter.com/en/docs/twitter-api) api, in 2016. The data consists of Twitter users (with unique handles) and their attributes (e.g., number of followers), some recent tweets posted by them with attributes (e.g., time stamp, number of retweets), and the follow relationship between the users. These are available in the three (gzipped) CSV files provided to you:\n",
        "- users.csv.gz - users, user attributes\n",
        "- edges.csv.gz - follow edges (directed, an edge from A to B means A follows B or B is a friend of A)\n",
        "- tweets.csv.gz - tweets posted by the users along with its attributes"
      ]
    },
    {
      "cell_type": "code",
      "execution_count": null,
      "metadata": {
        "id": "PrRLhcXvS3Xv"
      },
      "outputs": [],
      "source": [
        "import gzip\n",
        "import sqlite3\n",
        "import pandas as pd\n",
        "import matplotlib.pyplot as plt\n",
        "import numpy as np"
      ]
    },
    {
      "cell_type": "markdown",
      "metadata": {
        "id": "G02yqCyQS3Xx"
      },
      "source": [
        "## Q1. Relational Data\n",
        "This question will guide you through loading Twitter data into an in-memory SQLite database and running some basic queries on it."
      ]
    },
    {
      "cell_type": "markdown",
      "metadata": {
        "id": "HvmTfWJhS3Xx"
      },
      "source": [
        "### Q1. Task A: Load Twitter data into SQLite database\n",
        "Your first task is to use the (gzipped) csv and sqlite3 python packages to load the three csv files we give you as relations (or tables) into an SQLite in-memory database.\n",
        "\n",
        "Loading the data from (gzipped) csv file into the database involves the following steps:\n",
        "1. Identify the schema of the table (for this problem, you will only need TEXT and INTEGER attribute types)\n",
        "2. Create a table with the identified schema\n",
        "3. Load the contents of csv in memory\n",
        "4. Insert every row of csv file as a record in the table\n",
        "\n",
        "You can refer to [sqlite3 documentation](https://docs.python.org/2/library/sqlite3.html) and the class lecture for steps 2 and 4. For step 3 you can use pandas. Be sure to name your tables `users`, `edges`, and `tweets`.\n",
        "\n",
        "Make sure to commit (the equivalent of Ctrl+S for databases) any changes you make to the database. [This](https://www.techopedia.com/definition/16/commit) page should give you an idea about why commit is essential.\n",
        "\n",
        "Don't decompress the `.gz` files - we do that while reading them, i.e., pass the `*.csv.gz` filenames directly into a pandas function. This is common practice when dealing with large amounts of text data."
      ]
    },
    {
      "cell_type": "code",
      "execution_count": null,
      "metadata": {
        "id": "geThLml6S3Xy",
        "colab": {
          "base_uri": "https://localhost:8080/"
        },
        "outputId": "6f243db4-ffd4-4fff-bd68-cce2b444595b"
      },
      "outputs": [
        {
          "output_type": "stream",
          "name": "stdout",
          "text": [
            "Drive already mounted at /content/drive; to attempt to forcibly remount, call drive.mount(\"/content/drive\", force_remount=True).\n",
            "Users Data: [(1, 'user1', 'John Doe', 150, 200), (2, 'user2', 'Jane Smith', 300, 400), (3, 'user3', 'James Bond', 1000, 10)]\n",
            "Edges Data: [(1, 2), (2, 3), (3, 1)]\n",
            "Tweets Data: [(1, 1, 'Hello world!', '2024-11-21 10:00:00', 10, 50), (2, 2, 'Good morning!', '2024-11-21 11:00:00', 5, 20), (3, 3, 'Goodbye world!', '2024-11-21 12:00:00', 15, 70)]\n"
          ]
        }
      ],
      "source": [
        "import sqlite3\n",
        "import pandas as pd\n",
        "\n",
        "def load_twitter_data_sqlite3(conn):\n",
        "    \"\"\" Load twitter data in the three files as tables into an in-memory SQLite database.\n",
        "    The tables are stored in the following three csv files:\n",
        "      - users.csv.gz\n",
        "      - edges.csv.gz\n",
        "      - tweets.csv.gz\n",
        "    You should inspect the files and create a database schema with the same columns as in the csv file,\n",
        "    and either \"TEXT\" or \"INTEGER\" types.\n",
        "    Input:\n",
        "        conn (sqlite3.Connection) : Connection object corresponding to the database; used to perform SQL commands.\n",
        "    Output:\n",
        "        conn : Return connection after performing commands\n",
        "    \"\"\"\n",
        "    # Define the schema based on inspection\n",
        "    schemas = {\n",
        "        \"users\": \"\"\"\n",
        "            CREATE TABLE IF NOT EXISTS users (\n",
        "                id INTEGER PRIMARY KEY,\n",
        "                handle TEXT,\n",
        "                name TEXT,\n",
        "                followers_count INTEGER,\n",
        "                friends_count INTEGER\n",
        "            );\n",
        "        \"\"\",\n",
        "        \"edges\": \"\"\"\n",
        "            CREATE TABLE IF NOT EXISTS edges (\n",
        "                follower_id INTEGER,\n",
        "                friend_id INTEGER\n",
        "            );\n",
        "        \"\"\",\n",
        "        \"tweets\": \"\"\"\n",
        "            CREATE TABLE IF NOT EXISTS tweets (\n",
        "                id INTEGER PRIMARY KEY,\n",
        "                user_id INTEGER,\n",
        "                tweet TEXT,\n",
        "                timestamp TEXT,\n",
        "                retweets_count INTEGER,\n",
        "                favorites_count INTEGER\n",
        "            );\n",
        "        \"\"\"\n",
        "    }\n",
        "\n",
        "    # Create the tables\n",
        "    for table, schema in schemas.items():\n",
        "        conn.execute(schema)\n",
        "\n",
        "    from google.colab import drive\n",
        "    drive.mount('/content/drive')\n",
        "\n",
        "    # Define file paths (use .csv instead of .csv.gz)\n",
        "    file_paths = {\n",
        "        \"users\": \"/content/drive/My Drive/Colab Notebooks/users.csv\",\n",
        "        \"edges\": \"/content/drive/My Drive/Colab Notebooks/edges.csv\",\n",
        "        \"tweets\": \"/content/drive/My Drive/Colab Notebooks/tweets.csv\"\n",
        "    }\n",
        "\n",
        "    # Load each CSV into the corresponding table\n",
        "    for table, file_path in file_paths.items():\n",
        "        # Read the data into a DataFrame\n",
        "        df = pd.read_csv(file_path)\n",
        "\n",
        "        # Insert data into the table\n",
        "        df.to_sql(table, conn, if_exists='append', index=False)\n",
        "\n",
        "    # Commit changes to the database\n",
        "    conn.commit()\n",
        "    return conn\n",
        "\n",
        "# Create an in-memory SQLite database connection\n",
        "conn = sqlite3.connect(':memory:')\n",
        "\n",
        "# Call the function to load the Twitter data\n",
        "conn = load_twitter_data_sqlite3(conn)\n",
        "\n",
        "# After the data is loaded, you can query the tables to verify\n",
        "cursor = conn.cursor()\n",
        "\n",
        "# Check data in the users table\n",
        "cursor.execute(\"SELECT * FROM users LIMIT 5;\")\n",
        "users_data = cursor.fetchall()\n",
        "print(\"Users Data:\", users_data)\n",
        "\n",
        "# Check data in the edges table\n",
        "cursor.execute(\"SELECT * FROM edges LIMIT 5;\")\n",
        "edges_data = cursor.fetchall()\n",
        "print(\"Edges Data:\", edges_data)\n",
        "\n",
        "# Check data in the tweets table\n",
        "cursor.execute(\"SELECT * FROM tweets LIMIT 5;\")\n",
        "tweets_data = cursor.fetchall()\n",
        "print(\"Tweets Data:\", tweets_data)\n",
        "\n",
        "# Close the cursor and connection\n",
        "cursor.close()\n",
        "conn.close()"
      ]
    },
    {
      "cell_type": "markdown",
      "metadata": {
        "id": "DjVsIbd6S3X5"
      },
      "source": [
        "### Q1. Task B: Trending tweets in a topic\n",
        "Twitter is regarded as an invaluable source of valuable information. Hence, one of the favorite tasks of data miners is to analyze the trending tweets in a given topic.\n",
        "\n",
        "This task requires you to retrieve the top N most trending tweets (in descending order of trending_score) about a given topic (which is a list of keywords). The following information may be useful:\n",
        "\n",
        "- A tweet is said to be about a given topic if it contains any of the given topical phrases/keywords.\n",
        "- We will use the following simple trending_score: retweet_count + favorite_count. Tweets with higher trending_score must be ranked before the ones with lower trending_score.\n",
        "- Your result must contain unique tweets. If a tweet text occurs multiple times, display it only once with its highest trending_score.\n",
        "- Break ties by sorting the tweets in alphabetical order.\n",
        "\n",
        "The output schema should be as follows:\n",
        "\n",
        "|tweet (TEXT)| trending_score (INTEGER) |\n",
        "| :--- |:--- |\n",
        "| | |\n",
        "\n"
      ]
    },
    {
      "cell_type": "code",
      "execution_count": null,
      "metadata": {
        "id": "7NfzuT82S3X5",
        "colab": {
          "base_uri": "https://localhost:8080/"
        },
        "outputId": "ae67aeba-eee6-4185-ef4b-4a13e54292b6"
      },
      "outputs": [
        {
          "output_type": "stream",
          "name": "stdout",
          "text": [
            "('Python is awesome for data science.', 400)\n",
            "('Data science and Python go hand in hand.', 210)\n",
            "('Check out this cool Python tutorial!', 125)\n"
          ]
        }
      ],
      "source": [
        "def trending_tweets(cursor, topical_phrases, N):\n",
        "    \"\"\" Retrieves the top N trending tweets containing one or more of the given topical phrases.\n",
        "    Input:\n",
        "        cursor (sqlite3.Cursor): Cursor object to query the database.\n",
        "        topical_phrases (list of strings): A list of keywords identifying a topic.\n",
        "        N: Number of trending tweets to retrieve\n",
        "    Output:\n",
        "        results (sqlite3.Cursor): Cursor object which can be used to iterate over the retrieved records/tuples.\n",
        "    \"\"\"\n",
        "    # Dynamically build the WHERE clause for topical phrases\n",
        "    where_clause = \" OR \".join([f\"tweet LIKE '%{phrase}%'\" for phrase in topical_phrases])\n",
        "\n",
        "    # SQL query to fetch the top N trending tweets\n",
        "    query = f\"\"\"\n",
        "        SELECT\n",
        "            tweet,\n",
        "            MAX(retweets_count + favorites_count) AS trending_score\n",
        "        FROM tweets\n",
        "        WHERE {where_clause}\n",
        "        GROUP BY tweet\n",
        "        ORDER BY trending_score DESC, tweet ASC\n",
        "        LIMIT {N};\n",
        "    \"\"\"\n",
        "\n",
        "    # Execute the query and fetch results\n",
        "    results = cursor.execute(query)\n",
        "    return results\n",
        "\n",
        "# Create an in-memory SQLite database connection\n",
        "conn = sqlite3.connect(':memory:')\n",
        "\n",
        "# Create a cursor object to interact with the database\n",
        "cursor = conn.cursor()\n",
        "\n",
        "# Create the 'tweets' table based on the schema\n",
        "cursor.execute(\"\"\"\n",
        "    CREATE TABLE IF NOT EXISTS tweets (\n",
        "        id INTEGER PRIMARY KEY,\n",
        "        user_id INTEGER,\n",
        "        tweet TEXT,\n",
        "        timestamp TEXT,\n",
        "        retweets_count INTEGER,\n",
        "        favorites_count INTEGER\n",
        "    );\n",
        "\"\"\")\n",
        "\n",
        "# Insert some sample tweets, without including the `id` field\n",
        "sample_tweets = [\n",
        "    (101, \"This is a great day to be alive!\", \"2024-11-21 12:00:00\", 100, 150),\n",
        "    (102, \"Loving the weather today!\", \"2024-11-21 13:00:00\", 200, 180),\n",
        "    (103, \"Python is awesome for data science.\", \"2024-11-21 14:00:00\", 300, 100),\n",
        "    (104, \"Check out this cool Python tutorial!\", \"2024-11-21 15:00:00\", 50, 75),\n",
        "    (105, \"Data science and Python go hand in hand.\", \"2024-11-21 16:00:00\", 120, 90)\n",
        "]\n",
        "\n",
        "# Insert the sample tweets into the 'tweets' table\n",
        "cursor.executemany(\"\"\"\n",
        "    INSERT INTO tweets (user_id, tweet, timestamp, retweets_count, favorites_count)\n",
        "    VALUES (?, ?, ?, ?, ?);\n",
        "\"\"\", sample_tweets)\n",
        "\n",
        "# Commit the changes to the database\n",
        "conn.commit()\n",
        "\n",
        "# Define the topical phrases for searching tweets\n",
        "topical_phrases = [\"Python\", \"data science\"]\n",
        "\n",
        "# Set the number of top tweets to retrieve\n",
        "N = 3\n",
        "\n",
        "# Call the trending_tweets function\n",
        "results = trending_tweets(cursor, topical_phrases, N)\n",
        "\n",
        "# Fetch and print the results\n",
        "for row in results:\n",
        "    print(row)\n",
        "\n",
        "# Close the connection\n",
        "conn.close()"
      ]
    },
    {
      "cell_type": "markdown",
      "metadata": {
        "id": "0KRUuSlRS3X9"
      },
      "source": [
        "### Q1. Task C: Tweet recommendation\n",
        "How does Twitter go about populating the feed for a user? While Twitter may compile models to do this, in this task, we will use a Simple Tweet Recommender (STR), which recommends a user's tweets to all users who follow them (without checking for possible duplicates; i.e., STR may recommend the same tweet twice if two of a user's friends have posted it).\n",
        "\n",
        "In this task, you will write a query to determine the number of tweets recommended to each user. Use only the snapshot of edges and tweets we have provided to do the recommendation. Report the results on the users present in the users table. (Hint: The number of records in your output should match that in the \"users\" table.) The order of results does not matter.\n",
        "\n",
        "The output schema should be:\n",
        "\n",
        "|screen_name (TEXT)| num_tweets (INTEGER) |\n",
        "| :--- |:--- |\n",
        "| | | |\n"
      ]
    },
    {
      "cell_type": "code",
      "execution_count": null,
      "metadata": {
        "id": "4VfuPAnVS3X9"
      },
      "outputs": [],
      "source": [
        "def num_tweets_in_feed(cursor):\n",
        "    \"\"\" Retrieves the number of tweets STR recommends to each Twitter user.\n",
        "    Input:\n",
        "        cursor (sqlite3.Cursor): Cursor object to query the database.\n",
        "    Output:\n",
        "        results (sqlite3.Cursor): Cursor object which can be used to iterate over the retrieved records/tuples.\n",
        "    \"\"\"\n",
        "    query = \"\"\"\n",
        "        SELECT\n",
        "            u.handle AS screen_name,\n",
        "            COUNT(t.id) AS num_tweets\n",
        "        FROM users u\n",
        "        LEFT JOIN edges e ON u.id = e.friend_id\n",
        "        LEFT JOIN tweets t ON e.follower_id = t.user_id\n",
        "        GROUP BY u.id;\n",
        "    \"\"\"\n",
        "    return cursor.execute(query)"
      ]
    },
    {
      "cell_type": "markdown",
      "metadata": {
        "id": "OUb0m-pmS3X_"
      },
      "source": [
        "## Q2. Visualization\n",
        "In this question, you will load all data into pandas dataframes and analyze (and visualize!) some interesting trends using [matplotlib](http://matplotlib.org) python package."
      ]
    },
    {
      "cell_type": "markdown",
      "metadata": {
        "id": "905gmdXtS3X_"
      },
      "source": [
        "### Q2. Task A: Load Twitter data using pandas\n",
        "Fill in the following method stub and return the data frames for users, edges and tweets.\n",
        "\n",
        "Pandas will treat missing values as NaNs by default. However, for this assignment, you should treat missing values (i.e., empty strings in the csv files) as empty strings."
      ]
    },
    {
      "cell_type": "code",
      "execution_count": null,
      "metadata": {
        "id": "k3DSBSs6S3YA"
      },
      "outputs": [],
      "source": [
        "def load_twitter_data_pandas():\n",
        "    \"\"\" Load twitter data in the three files as pandas data frames.\n",
        "    The tables are stored in the following three csv files:\n",
        "      - users.csv.gz\n",
        "      - edges.csv.gz\n",
        "      - tweets.csv.gz\n",
        "    Output:\n",
        "        users_df, edges_df, tweets_df,\n",
        "        conn : Return connection after performing commands\n",
        "    \"\"\"\n",
        "    from google.colab import drive\n",
        "    drive.mount('/content/drive')\n",
        "\n",
        "    # Load data into pandas DataFrames with empty strings for missing values\n",
        "    users_df = pd.read_csv(\"/content/drive/My Drive/Colab Notebooks/users.csv\").fillna(\"\")\n",
        "    edges_df = pd.read_csv(\"/content/drive/My Drive/Colab Notebooks/edges.csv\").fillna(\"\")\n",
        "    tweets_df = pd.read_csv(\"/content/drive/My Drive/Colab Notebooks/tweets.csv\").fillna(\"\")\n",
        "\n",
        "    return users_df, edges_df, tweets_df"
      ]
    },
    {
      "cell_type": "markdown",
      "metadata": {
        "id": "J97890KvS3YB"
      },
      "source": [
        "### Q2. Task B: Correlation\n",
        "Statisticians and data analysts usually like to study the correlation between different observed variables. This helps uncover interesting patterns in the data such as causal relationships (e.g., snow on the road leads to an increase in the number of accidents). Correlation studies are important for multiple reasons:\n",
        "- While [correlation does not imply causation](https://en.wikipedia.org/wiki/Correlation_does_not_imply_causation), a lack of correlation implies a lack of causation. This can be used to rule out many causal relationships.\n",
        "- Correlation helps with prediction. The more closely related two variables are, the easier it is to predict one from the other.\n",
        "\n",
        "In this task, we ask you to plot the friends_count (on y-axis) vs the followers_count (on x-axis) using the matplotlib package. [Here](http://matplotlib.org/examples/shapes_and_collections/scatter_demo.html) is an example to get started with scatter plots."
      ]
    },
    {
      "cell_type": "code",
      "execution_count": null,
      "metadata": {
        "id": "Hm8m3vZ6S3YB",
        "colab": {
          "base_uri": "https://localhost:8080/",
          "height": 599
        },
        "outputId": "19030a96-c00f-4036-9b88-0897b92e3da6"
      },
      "outputs": [
        {
          "output_type": "stream",
          "name": "stdout",
          "text": [
            "Mounted at /content/drive\n"
          ]
        },
        {
          "output_type": "display_data",
          "data": {
            "text/plain": [
              "<Figure size 800x600 with 1 Axes>"
            ],
            "image/png": "[encoded data removed]"
          },
          "metadata": {}
        },
        {
          "output_type": "execute_result",
          "data": {
            "text/plain": [
              "<matplotlib.collections.PathCollection at 0x7ec2261ff760>"
            ]
          },
          "metadata": {},
          "execution_count": 18
        }
      ],
      "source": [
        "import matplotlib.pyplot as plt\n",
        "\n",
        "def plot_friends_vs_followers(users_df):\n",
        "    \"\"\" Plots the friends_count (on y-axis) against the followers_count (on x-axis).\n",
        "    Input:\n",
        "        users_df (pd.DataFrame) : Dataframe containing Twitter user attributes,\n",
        "                                    as returned by load_twitter_data_pandas()\n",
        "    Output:\n",
        "        (matplotlib.collections.PathCollection) : The object returned by the scatter plot function\n",
        "    \"\"\"\n",
        "    # Extract relevant columns\n",
        "    x = users_df['followers_count']\n",
        "    y = users_df['friends_count']\n",
        "\n",
        "    # Create the scatter plot\n",
        "    plt.figure(figsize=(8, 6))\n",
        "    scatter = plt.scatter(x, y, alpha=0.6, edgecolor='k', color='blue')\n",
        "    plt.title(\"Friends Count vs Followers Count\")\n",
        "    plt.xlabel(\"Followers Count\")\n",
        "    plt.ylabel(\"Friends Count\")\n",
        "    plt.grid(True, linestyle='--', alpha=0.7)\n",
        "\n",
        "    # Show the plot\n",
        "    plt.show()\n",
        "\n",
        "    return scatter\n",
        "\n",
        "\n",
        "     # Load data\n",
        "users_df, _, _ = load_twitter_data_pandas()\n",
        "\n",
        "    # Plot the data\n",
        "plot_friends_vs_followers(users_df)"
      ]
    },
    {
      "cell_type": "markdown",
      "metadata": {
        "id": "-ziJiLUeS3YD"
      },
      "source": [
        "Do you see a correlation between these two variables from your scatter plot? Let's measure this quantitatively using the [Pearson's correlation coefficient](https://en.wikipedia.org/wiki/Pearson_product-moment_correlation_coefficient).\n",
        "\n",
        "For a set of observations $(X,Y) = [(x_1,y_1), (x_2,y_2), ... , (x_n,y_n)]$, the Pearson's correlation coefficient is a measure of the linear dependence between two variables $X$ and $Y$, giving a value between +1 and −1 inclusive, where 1 is total positive correlation, 0 is no correlation, and −1 is total negative correlation.\n",
        "\n",
        "$r=r_{xy}={\\frac {n\\sum x_{i}y_{i}-\\sum x_{i}\\sum y_{i}}{{\\sqrt {n\\sum x_{i}^{2}-(\\sum x_{i})^{2}}}~{\\sqrt {n\\sum y_{i}^{2}-(\\sum y_{i})^{2}}}}}$\n",
        "\n",
        "Now, fill in the following function to compute the Pearson's correlation coefficient between friends_count and followers_count."
      ]
    },
    {
      "cell_type": "code",
      "execution_count": null,
      "metadata": {
        "id": "nRfkg_jjS3YD"
      },
      "outputs": [],
      "source": [
        "def correlation_coefficient(users_df):\n",
        "    \"\"\" Computes correlation between user followers and friendss\n",
        "    Input:\n",
        "        users_df (pd.DataFrame) : Dataframe containing Twitter user attributes,\n",
        "                                    as returned by load_twitter_data_pandas()\n",
        "    Output:\n",
        "        (double) : correlation coefficient between friends_count and followers_count\n",
        "    \"\"\"\n",
        "    # Extract the columns\n",
        "    x = users_df['followers_count']\n",
        "    y = users_df['friends_count']\n",
        "\n",
        "    # Compute the terms of the Pearson's formula\n",
        "    n = len(x)\n",
        "    sum_x = np.sum(x)\n",
        "    sum_y = np.sum(y)\n",
        "    sum_xy = np.sum(x * y)\n",
        "    sum_x2 = np.sum(x**2)\n",
        "    sum_y2 = np.sum(y**2)\n",
        "\n",
        "    # Calculate the numerator and denominator of the formula\n",
        "    numerator = n * sum_xy - sum_x * sum_y\n",
        "    denominator = np.sqrt((n * sum_x2 - sum_x**2) * (n * sum_y2 - sum_y**2))\n",
        "\n",
        "    # Handle division by zero\n",
        "    if denominator == 0:\n",
        "        return 0\n",
        "\n",
        "    # Calculate and return Pearson's correlation coefficient\n",
        "    r = numerator / denominator\n",
        "    return r"
      ]
    },
    {
      "cell_type": "markdown",
      "metadata": {
        "id": "8YsJPP3FS3YE"
      },
      "source": [
        "### Q2. Task C: Degree distribution\n",
        "If you are not familiar with graph theory and/or graph mining, skip the first paragraph.\n",
        "\n",
        "As you're familiar with graphs, you might know that the degree of a node is the number of connections it has to other nodes. A common statistic to look out for in the case of real-world graphs is the degree distribution. Literature says degrees of nodes in real-world graphs follow a [power law distribution](https://en.wikipedia.org/wiki/Power_law). The implication is that a scatter plot of num_users versus k (as we will define below) yields an almost straight line. In this task, we shall verify whether the given crawl of the Twitter network satisfies this property.\n",
        "\n",
        "Let us call the number of friends a Twitter user has as his/her degree. The degree distribution is a histogram of the number of friends. Your task is to visualize this histogram. Use the default number of bins.\n",
        "\n",
        "Do you notice any surprising/unexpected patterns? What can you say about the way in which the Twitter data was collected?"
      ]
    },
    {
      "cell_type": "code",
      "execution_count": null,
      "metadata": {
        "id": "CtgPbYjjS3YE",
        "colab": {
          "base_uri": "https://localhost:8080/",
          "height": 599
        },
        "outputId": "ae52ac23-bbb1-4ce8-b0bb-ffa4a2119111"
      },
      "outputs": [
        {
          "output_type": "stream",
          "name": "stdout",
          "text": [
            "Drive already mounted at /content/drive; to attempt to forcibly remount, call drive.mount(\"/content/drive\", force_remount=True).\n"
          ]
        },
        {
          "output_type": "display_data",
          "data": {
            "text/plain": [
              "<Figure size 800x600 with 1 Axes>"
            ],
            "image/png": "[encoded data removed]"
          },
          "metadata": {}
        },
        {
          "output_type": "execute_result",
          "data": {
            "text/plain": [
              "(array([3.]), array([0.5, 1.5]), <BarContainer object of 1 artists>)"
            ]
          },
          "metadata": {},
          "execution_count": 21
        }
      ],
      "source": [
        "import matplotlib.pyplot as plt\n",
        "\n",
        "def degree_distribution(edges_df):\n",
        "    \"\"\" Plots the distribution of friends for users.\n",
        "    Input:\n",
        "        edges_df (pd.DataFrame) : Dataframe containing Twitter edges,\n",
        "                        as returned by load_twitter_data_pandas()\n",
        "    Output:\n",
        "        (array, array, list of Patch objects) : Tuple of the values of the histogram bins,\n",
        "                        the edges of the bins and the silent list of individual patches used to create the histogram.\n",
        "                        Note that this format is exactly what is output by the `plt.hist` function.\n",
        "    \"\"\"\n",
        "    # Count the number of friends for each user (i.e., how many times each user appears as a 'friend_id')\n",
        "    degree_counts = edges_df['friend_id'].value_counts()  # This gives the degree (number of friends) for each user\n",
        "\n",
        "    # Plot the histogram of degrees\n",
        "    plt.figure(figsize=(8, 6))\n",
        "    hist_values = plt.hist(degree_counts, bins='auto', color='blue', alpha=0.7, edgecolor='k')\n",
        "\n",
        "    plt.title(\"Degree Distribution (Number of Friends)\")\n",
        "    plt.xlabel(\"Number of Friends (Degree)\")\n",
        "    plt.ylabel(\"Number of Users\")\n",
        "    plt.grid(True, linestyle='--', alpha=0.7)\n",
        "\n",
        "    # Show the plot\n",
        "    plt.show()\n",
        "\n",
        "    return hist_values\n",
        "\n",
        "degree_distribution(load_twitter_data_pandas()[1])"
      ]
    }
  ],
  "metadata": {
    "anaconda-cloud": {},
    "colab": {
      "provenance": []
    },
    "kernelspec": {
      "display_name": "Python 3",
      "language": "python",
      "name": "python3"
    },
    "language_info": {
      "codemirror_mode": {
        "name": "ipython",
        "version": 3
      },
      "file_extension": ".py",
      "mimetype": "text/x-python",
      "name": "python",
      "nbconvert_exporter": "python",
      "pygments_lexer": "ipython3",
      "version": "3.7.3"
    }
  },
  "nbformat": 4,
  "nbformat_minor": 0
}